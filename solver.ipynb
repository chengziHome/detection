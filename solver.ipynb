{
 "cells": [
  {
   "cell_type": "markdown",
   "metadata": {},
   "source": [
    "## solver.py的草稿\n",
    "* 默认都是在GPU下运行，不做参数配置"
   ]
  },
  {
   "cell_type": "code",
   "execution_count": 11,
   "metadata": {},
   "outputs": [],
   "source": [
    "        \n",
    "        "
   ]
  },
  {
   "cell_type": "markdown",
   "metadata": {},
   "source": [
    "## datasets.py 的 draft"
   ]
  },
  {
   "cell_type": "code",
   "execution_count": 13,
   "metadata": {},
   "outputs": [],
   "source": []
  },
  {
   "cell_type": "markdown",
   "metadata": {},
   "source": [
    "## 测试一下整个train的pipeline\n"
   ]
  },
  {
   "cell_type": "code",
   "execution_count": 1,
   "metadata": {},
   "outputs": [],
   "source": [
    "import datasets\n",
    "import solver\n",
    "import os\n",
    "\n",
    "import torch\n",
    "import torchvision\n",
    "import torchvision.transforms as transforms\n",
    "\n",
    "\n",
    "ROOT = \"/home/jiazhaohe/datasets/imagenet12\"\n",
    "\n",
    "meta = torch.load(os.path.join(ROOT,\"meta_data.bin\"))\n",
    "train_samples = meta[\"train_samples\"]\n",
    "val_samples = meta[\"val_samples\"]\n",
    "\n",
    "transform = torchvision.transforms.Compose([\n",
    "                        transforms.RandomResizedCrop(224),\n",
    "                        transforms.RandomHorizontalFlip(),\n",
    "                        transforms.ToTensor(),\n",
    "                        transforms.Normalize(mean=[0.485, 0.456, 0.406],\n",
    "                                             std=[0.229, 0.224, 0.225])\n",
    "            ])\n",
    "\n",
    "trainset = datasets.ImgListDataset(os.path.join(ROOT,\"train\"),transform,train_samples)\n",
    "trainloader = torch.utils.data.DataLoader(trainset,batch_size=256,\n",
    "                                          shuffle=True,num_workers=16)\n",
    "\n",
    "valset = datasets.ImgListDataset(os.path.join(ROOT,\"val\"),transform,val_samples)\n",
    "valloader = torch.utils.data.DataLoader(valset,batch_size=256,\n",
    "                                          shuffle=False,num_workers=16)\n",
    "\n",
    "\n"
   ]
  },
  {
   "cell_type": "code",
   "execution_count": 2,
   "metadata": {},
   "outputs": [],
   "source": [
    "net = torchvision.models.alexnet()\n",
    "net = net.cuda()\n",
    "\n",
    "criterion = torch.nn.CrossEntropyLoss().cuda()\n",
    "optimizer = torch.optim.SGD(net.parameters(),lr=0.05,momentum=0.9,weight_decay=5e-4)\n",
    "\n"
   ]
  },
  {
   "cell_type": "code",
   "execution_count": 3,
   "metadata": {},
   "outputs": [],
   "source": [
    "mySolver = solver.Solver(net=net,check_point=\"./models/best_5.pth\",\n",
    "                        trainloader=trainloader,valloader=valloader,\n",
    "                        criterion=criterion,optimizer=optimizer,\n",
    "                        logfile=\"./logs/test.log\",\n",
    "                        print_freq=1,\n",
    "                        save_name=\"alexnet\")\n",
    "mySolver.train(1)"
   ]
  },
  {
   "cell_type": "code",
   "execution_count": 1,
   "metadata": {},
   "outputs": [],
   "source": [
    "\n",
    "import logging\n",
    "logging.info(\"prec: %.3f\",2.43123)"
   ]
  },
  {
   "cell_type": "code",
   "execution_count": 7,
   "metadata": {},
   "outputs": [
    {
     "name": "stdout",
     "output_type": "stream",
     "text": [
      "prec:  3.123\n",
      "prec: 12.234\n"
     ]
    }
   ],
   "source": [
    "f = 3.12315\n",
    "f2 = 12.234123\n",
    "print(\"prec: {:6.3f}\".format(f))\n",
    "print(\"prec: {:6.3f}\".format(f2))"
   ]
  },
  {
   "cell_type": "code",
   "execution_count": null,
   "metadata": {},
   "outputs": [],
   "source": []
  }
 ],
 "metadata": {
  "kernelspec": {
   "display_name": "Python 3",
   "language": "python",
   "name": "python3"
  },
  "language_info": {
   "codemirror_mode": {
    "name": "ipython",
    "version": 3
   },
   "file_extension": ".py",
   "mimetype": "text/x-python",
   "name": "python",
   "nbconvert_exporter": "python",
   "pygments_lexer": "ipython3",
   "version": "3.7.5"
  }
 },
 "nbformat": 4,
 "nbformat_minor": 2
}
