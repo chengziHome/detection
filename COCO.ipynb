{
 "cells": [
  {
   "cell_type": "code",
   "execution_count": 2,
   "metadata": {},
   "outputs": [],
   "source": [
    "import json"
   ]
  },
  {
   "cell_type": "code",
   "execution_count": 3,
   "metadata": {},
   "outputs": [],
   "source": [
    "annotation_file = \"/home/jiazhaohe/datasets/COCO_2017/annotations/instances_train2017.json\""
   ]
  },
  {
   "cell_type": "code",
   "execution_count": 4,
   "metadata": {},
   "outputs": [],
   "source": [
    "dataset = json.load(open(annotation_file, 'r'))"
   ]
  },
  {
   "cell_type": "code",
   "execution_count": 5,
   "metadata": {},
   "outputs": [
    {
     "name": "stdout",
     "output_type": "stream",
     "text": [
      "<class 'dict'>\n"
     ]
    }
   ],
   "source": [
    "print(type(dataset))"
   ]
  },
  {
   "cell_type": "code",
   "execution_count": 6,
   "metadata": {},
   "outputs": [
    {
     "name": "stdout",
     "output_type": "stream",
     "text": [
      "dict_keys(['info', 'licenses', 'images', 'annotations', 'categories'])\n"
     ]
    }
   ],
   "source": [
    "print(dataset.keys())"
   ]
  },
  {
   "cell_type": "code",
   "execution_count": 7,
   "metadata": {},
   "outputs": [
    {
     "name": "stdout",
     "output_type": "stream",
     "text": [
      "{'description': 'COCO 2017 Dataset', 'url': 'http://cocodataset.org', 'version': '1.0', 'year': 2017, 'contributor': 'COCO Consortium', 'date_created': '2017/09/01'}\n"
     ]
    }
   ],
   "source": [
    "print(dataset[\"info\"])"
   ]
  },
  {
   "cell_type": "code",
   "execution_count": 8,
   "metadata": {},
   "outputs": [
    {
     "name": "stdout",
     "output_type": "stream",
     "text": [
      "80\n"
     ]
    }
   ],
   "source": [
    "# print(dataset[\"licenses\"])\n",
    "print(len(dataset[\"categories\"]))\n",
    "# print(dataset[\"categories\"][:5])\n",
    "# print(\"... ...\")\n",
    "# print(dataset[\"categories\"][-5:])\n",
    "# for item in dataset[\"categories\"]:\n",
    "#     print(item[\"id\"])"
   ]
  },
  {
   "cell_type": "code",
   "execution_count": 9,
   "metadata": {},
   "outputs": [
    {
     "name": "stdout",
     "output_type": "stream",
     "text": [
      "118287\n",
      "[{'license': 3, 'file_name': '000000391895.jpg', 'coco_url': 'http://images.cocodataset.org/train2017/000000391895.jpg', 'height': 360, 'width': 640, 'date_captured': '2013-11-14 11:18:45', 'flickr_url': 'http://farm9.staticflickr.com/8186/8119368305_4e622c8349_z.jpg', 'id': 391895}]\n",
      "... ...\n",
      "[{'license': 4, 'file_name': '000000475546.jpg', 'coco_url': 'http://images.cocodataset.org/train2017/000000475546.jpg', 'height': 375, 'width': 500, 'date_captured': '2013-11-25 21:20:23', 'flickr_url': 'http://farm1.staticflickr.com/167/423175046_6cd9d0205a_z.jpg', 'id': 475546}]\n"
     ]
    }
   ],
   "source": [
    "print(len(dataset[\"images\"]))\n",
    "print(dataset[\"images\"][:1])\n",
    "print(\"... ...\")\n",
    "print(dataset[\"images\"][-1:])\n"
   ]
  },
  {
   "cell_type": "code",
   "execution_count": 10,
   "metadata": {},
   "outputs": [
    {
     "name": "stdout",
     "output_type": "stream",
     "text": [
      "860001\n",
      "[{'segmentation': [[239.97, 260.24, 222.04, 270.49, 199.84, 253.41, 213.5, 227.79, 259.62, 200.46, 274.13, 202.17, 277.55, 210.71, 249.37, 253.41, 237.41, 264.51, 242.54, 261.95, 228.87, 271.34]], 'area': 2765.1486500000005, 'iscrowd': 0, 'image_id': 558840, 'bbox': [199.84, 200.46, 77.71, 70.88], 'category_id': 58, 'id': 156}]\n",
      "... ...\n",
      "[{'segmentation': {'counts': [97214, 1, 425, 4, 422, 6, 420, 9, 417, 12, 415, 13, 413, 14, 412, 15, 411, 16, 408, 19, 407, 19, 407, 19, 406, 21, 405, 21, 405, 21, 405, 21, 406, 19, 408, 18, 409, 18, 409, 16, 411, 16, 411, 16, 412, 15, 413, 13, 416, 10, 410, 6, 5, 4, 411, 8, 418, 10, 416, 12, 415, 12, 415, 12, 415, 12, 415, 12, 415, 11, 416, 11, 417, 10, 417, 10, 416, 12, 415, 12, 415, 12, 415, 12, 415, 14, 413, 15, 411, 17, 409, 19, 408, 20, 407, 21, 406, 23, 404, 25, 402, 27, 400, 29, 399, 31, 397, 31, 398, 30, 401, 27, 400, 28, 400, 28, 400, 28, 400, 28, 400, 28, 399, 29, 398, 30, 397, 31, 396, 32, 396, 32, 395, 33, 395, 32, 396, 31, 398, 28, 410, 16, 413, 12, 418, 7, 59350, 7, 419, 9, 417, 12, 414, 13, 20, 2, 2, 7, 383, 14, 4, 3, 11, 13, 382, 24, 8, 14, 381, 28, 3, 16, 380, 47, 380, 47, 380, 47, 381, 46, 382, 45, 384, 43, 387, 39, 390, 36, 393, 33, 414, 11, 23852, 4, 422, 6, 420, 9, 417, 11, 416, 12, 55, 2, 358, 13, 44, 13, 357, 14, 36, 20, 357, 16, 32, 22, 357, 17, 30, 23, 357, 19, 27, 24, 358, 19, 25, 25, 359, 20, 22, 26, 361, 19, 20, 26, 363, 20, 17, 26, 365, 20, 16, 26, 367, 18, 16, 25, 368, 18, 16, 24, 370, 17, 16, 22, 373, 16, 17, 10, 1, 4, 381, 14, 18, 8, 389, 12, 20, 4, 392, 10, 418, 8, 421, 4, 25595, 6, 420, 8, 418, 10, 416, 11, 416, 12, 415, 12, 415, 13, 414, 13, 414, 14, 413, 14, 414, 14, 414, 13, 414, 14, 413, 14, 413, 16, 412, 18, 409, 20, 407, 23, 404, 25, 402, 27, 400, 30, 397, 32, 395, 34, 393, 35, 392, 35, 392, 35, 392, 35, 392, 35, 392, 35, 393, 34, 394, 8, 6, 4, 2, 12, 397, 2, 19, 8, 421, 4, 6531], 'size': [427, 640]}, 'area': 3489, 'iscrowd': 1, 'image_id': 95999, 'bbox': [227, 260, 397, 82], 'category_id': 1, 'id': 900100095999}]\n"
     ]
    }
   ],
   "source": [
    "print(len(dataset[\"annotations\"]))\n",
    "print(dataset[\"annotations\"][:1])\n",
    "print(\"... ...\")\n",
    "print(dataset[\"annotations\"][-1:])"
   ]
  },
  {
   "cell_type": "markdown",
   "metadata": {},
   "source": [
    "## usage of cocoapi"
   ]
  },
  {
   "cell_type": "code",
   "execution_count": 1,
   "metadata": {},
   "outputs": [],
   "source": [
    "import matplotlib.pyplot as plt\n",
    "from pycocotools.coco import COCO\n",
    "from pycocotools.cocoeval import COCOeval\n",
    "import numpy as np\n",
    "import skimage.io as io\n",
    "import pylab"
   ]
  },
  {
   "cell_type": "code",
   "execution_count": 4,
   "metadata": {},
   "outputs": [
    {
     "name": "stdout",
     "output_type": "stream",
     "text": [
      "loading annotations into memory...\n",
      "Done (t=14.71s)\n",
      "creating index...\n",
      "index created!\n"
     ]
    }
   ],
   "source": [
    "coco = COCO(annotation_file)"
   ]
  },
  {
   "cell_type": "code",
   "execution_count": 5,
   "metadata": {},
   "outputs": [],
   "source": [
    "imgids = coco.getImgIds()"
   ]
  },
  {
   "cell_type": "code",
   "execution_count": 6,
   "metadata": {},
   "outputs": [
    {
     "name": "stdout",
     "output_type": "stream",
     "text": [
      "262284\n"
     ]
    }
   ],
   "source": [
    "print(imgids[46])"
   ]
  },
  {
   "cell_type": "code",
   "execution_count": 14,
   "metadata": {},
   "outputs": [],
   "source": [
    "anns = coco.getAnnIds(imgIds=[9])"
   ]
  },
  {
   "cell_type": "code",
   "execution_count": 15,
   "metadata": {},
   "outputs": [
    {
     "name": "stdout",
     "output_type": "stream",
     "text": [
      "[1038967, 1039564, 1058555, 1534147, 1913551, 1913746, 1913856, 1914001]\n"
     ]
    }
   ],
   "source": [
    "print(anns)"
   ]
  },
  {
   "cell_type": "code",
   "execution_count": 16,
   "metadata": {},
   "outputs": [
    {
     "data": {
      "text/plain": [
       "[{'segmentation': [[500.49,\n",
       "    473.53,\n",
       "    599.73,\n",
       "    419.6,\n",
       "    612.67,\n",
       "    375.37,\n",
       "    608.36,\n",
       "    354.88,\n",
       "    528.54,\n",
       "    269.66,\n",
       "    457.35,\n",
       "    201.71,\n",
       "    420.67,\n",
       "    187.69,\n",
       "    389.39,\n",
       "    192.0,\n",
       "    19.42,\n",
       "    360.27,\n",
       "    1.08,\n",
       "    389.39,\n",
       "    2.16,\n",
       "    427.15,\n",
       "    20.49,\n",
       "    473.53]],\n",
       "  'area': 120057.13925,\n",
       "  'iscrowd': 0,\n",
       "  'image_id': 9,\n",
       "  'bbox': [1.08, 187.69, 611.59, 285.84],\n",
       "  'category_id': 51,\n",
       "  'id': 1038967},\n",
       " {'segmentation': [[357.03,\n",
       "    69.03,\n",
       "    311.73,\n",
       "    15.1,\n",
       "    550.11,\n",
       "    4.31,\n",
       "    631.01,\n",
       "    62.56,\n",
       "    629.93,\n",
       "    88.45,\n",
       "    595.42,\n",
       "    185.53,\n",
       "    513.44,\n",
       "    230.83,\n",
       "    488.63,\n",
       "    232.99,\n",
       "    437.93,\n",
       "    190.92,\n",
       "    429.3,\n",
       "    189.84,\n",
       "    434.7,\n",
       "    148.85,\n",
       "    410.97,\n",
       "    121.89,\n",
       "    359.19,\n",
       "    74.43,\n",
       "    358.11,\n",
       "    65.8]],\n",
       "  'area': 44434.751099999994,\n",
       "  'iscrowd': 0,\n",
       "  'image_id': 9,\n",
       "  'bbox': [311.73, 4.31, 319.28, 228.68],\n",
       "  'category_id': 51,\n",
       "  'id': 1039564},\n",
       " {'segmentation': [[249.6,\n",
       "    348.99,\n",
       "    267.67,\n",
       "    311.72,\n",
       "    291.39,\n",
       "    294.78,\n",
       "    304.94,\n",
       "    294.78,\n",
       "    326.4,\n",
       "    283.48,\n",
       "    345.6,\n",
       "    273.32,\n",
       "    368.19,\n",
       "    269.93,\n",
       "    385.13,\n",
       "    268.8,\n",
       "    388.52,\n",
       "    257.51,\n",
       "    393.04,\n",
       "    250.73,\n",
       "    407.72,\n",
       "    240.56,\n",
       "    425.79,\n",
       "    230.4,\n",
       "    441.6,\n",
       "    229.27,\n",
       "    447.25,\n",
       "    237.18,\n",
       "    447.25,\n",
       "    256.38,\n",
       "    456.28,\n",
       "    254.12,\n",
       "    475.48,\n",
       "    263.15,\n",
       "    486.78,\n",
       "    271.06,\n",
       "    495.81,\n",
       "    264.28,\n",
       "    498.07,\n",
       "    257.51,\n",
       "    500.33,\n",
       "    255.25,\n",
       "    507.11,\n",
       "    259.76,\n",
       "    513.88,\n",
       "    266.54,\n",
       "    513.88,\n",
       "    273.32,\n",
       "    513.88,\n",
       "    276.71,\n",
       "    526.31,\n",
       "    276.71,\n",
       "    526.31,\n",
       "    286.87,\n",
       "    519.53,\n",
       "    291.39,\n",
       "    519.53,\n",
       "    297.04,\n",
       "    524.05,\n",
       "    306.07,\n",
       "    525.18,\n",
       "    315.11,\n",
       "    529.69,\n",
       "    329.79,\n",
       "    529.69,\n",
       "    337.69,\n",
       "    530.82,\n",
       "    348.99,\n",
       "    536.47,\n",
       "    339.95,\n",
       "    545.51,\n",
       "    350.12,\n",
       "    555.67,\n",
       "    360.28,\n",
       "    557.93,\n",
       "    380.61,\n",
       "    561.32,\n",
       "    394.16,\n",
       "    565.84,\n",
       "    413.36,\n",
       "    522.92,\n",
       "    441.6,\n",
       "    469.84,\n",
       "    468.71,\n",
       "    455.15,\n",
       "    474.35,\n",
       "    307.2,\n",
       "    474.35,\n",
       "    316.24,\n",
       "    464.19,\n",
       "    330.92,\n",
       "    438.21,\n",
       "    325.27,\n",
       "    399.81,\n",
       "    310.59,\n",
       "    378.35,\n",
       "    301.55,\n",
       "    371.58,\n",
       "    252.99,\n",
       "    350.12]],\n",
       "  'area': 49577.94434999999,\n",
       "  'iscrowd': 0,\n",
       "  'image_id': 9,\n",
       "  'bbox': [249.6, 229.27, 316.24, 245.08],\n",
       "  'category_id': 56,\n",
       "  'id': 1058555},\n",
       " {'segmentation': [[434.48,\n",
       "    152.33,\n",
       "    433.51,\n",
       "    184.93,\n",
       "    425.44,\n",
       "    189.45,\n",
       "    376.7,\n",
       "    195.58,\n",
       "    266.94,\n",
       "    248.53,\n",
       "    179.78,\n",
       "    290.17,\n",
       "    51.62,\n",
       "    346.66,\n",
       "    16.43,\n",
       "    366.68,\n",
       "    1.9,\n",
       "    388.63,\n",
       "    0.0,\n",
       "    377.33,\n",
       "    0.0,\n",
       "    357.64,\n",
       "    0.0,\n",
       "    294.04,\n",
       "    22.56,\n",
       "    294.37,\n",
       "    56.14,\n",
       "    300.82,\n",
       "    83.58,\n",
       "    300.82,\n",
       "    109.08,\n",
       "    289.2,\n",
       "    175.26,\n",
       "    263.38,\n",
       "    216.9,\n",
       "    243.36,\n",
       "    326.34,\n",
       "    197.52,\n",
       "    387.03,\n",
       "    172.34,\n",
       "    381.54,\n",
       "    162.33,\n",
       "    380.89,\n",
       "    147.16,\n",
       "    380.89,\n",
       "    140.06,\n",
       "    370.89,\n",
       "    102.29,\n",
       "    330.86,\n",
       "    61.94,\n",
       "    318.91,\n",
       "    48.38,\n",
       "    298.57,\n",
       "    47.41,\n",
       "    287.28,\n",
       "    37.73,\n",
       "    259.51,\n",
       "    33.85,\n",
       "    240.14,\n",
       "    32.56,\n",
       "    240.14,\n",
       "    28.36,\n",
       "    247.57,\n",
       "    24.17,\n",
       "    271.46,\n",
       "    15.13,\n",
       "    282.11,\n",
       "    13.51,\n",
       "    296.96,\n",
       "    18.68,\n",
       "    336.34,\n",
       "    55.48,\n",
       "    391.55,\n",
       "    106.81,\n",
       "    432.87,\n",
       "    147.16],\n",
       "   [62.46,\n",
       "    97.21,\n",
       "    130.25,\n",
       "    69.77,\n",
       "    161.25,\n",
       "    59.12,\n",
       "    183.52,\n",
       "    52.02,\n",
       "    180.94,\n",
       "    59.12,\n",
       "    170.93,\n",
       "    78.17,\n",
       "    170.28,\n",
       "    90.76,\n",
       "    157.05,\n",
       "    95.92,\n",
       "    130.25,\n",
       "    120.78,\n",
       "    119.92,\n",
       "    129.49,\n",
       "    102.17,\n",
       "    115.29,\n",
       "    64.72,\n",
       "    119.81,\n",
       "    0.0,\n",
       "    137.89,\n",
       "    0.0,\n",
       "    120.13,\n",
       "    0.0,\n",
       "    117.87]],\n",
       "  'area': 24292.781700000007,\n",
       "  'iscrowd': 0,\n",
       "  'image_id': 9,\n",
       "  'bbox': [0.0, 13.51, 434.48, 375.12],\n",
       "  'category_id': 51,\n",
       "  'id': 1534147},\n",
       " {'segmentation': [[376.2,\n",
       "    61.55,\n",
       "    391.86,\n",
       "    46.35,\n",
       "    424.57,\n",
       "    40.36,\n",
       "    441.62,\n",
       "    43.59,\n",
       "    448.07,\n",
       "    50.04,\n",
       "    451.75,\n",
       "    63.86,\n",
       "    448.07,\n",
       "    68.93,\n",
       "    439.31,\n",
       "    70.31,\n",
       "    425.49,\n",
       "    73.53,\n",
       "    412.59,\n",
       "    75.38,\n",
       "    402.92,\n",
       "    84.13,\n",
       "    387.71,\n",
       "    86.89,\n",
       "    380.8,\n",
       "    70.77]],\n",
       "  'area': 2239.2924,\n",
       "  'iscrowd': 0,\n",
       "  'image_id': 9,\n",
       "  'bbox': [376.2, 40.36, 75.55, 46.53],\n",
       "  'category_id': 55,\n",
       "  'id': 1913551},\n",
       " {'segmentation': [[473.92,\n",
       "    85.64,\n",
       "    469.58,\n",
       "    83.47,\n",
       "    465.78,\n",
       "    78.04,\n",
       "    466.87,\n",
       "    72.08,\n",
       "    472.84,\n",
       "    59.59,\n",
       "    478.26,\n",
       "    47.11,\n",
       "    496.71,\n",
       "    38.97,\n",
       "    514.62,\n",
       "    40.6,\n",
       "    521.13,\n",
       "    49.28,\n",
       "    523.85,\n",
       "    55.25,\n",
       "    520.05,\n",
       "    63.94,\n",
       "    501.06,\n",
       "    72.62,\n",
       "    482.6,\n",
       "    82.93]],\n",
       "  'area': 1658.8913000000007,\n",
       "  'iscrowd': 0,\n",
       "  'image_id': 9,\n",
       "  'bbox': [465.78, 38.97, 58.07, 46.67],\n",
       "  'category_id': 55,\n",
       "  'id': 1913746},\n",
       " {'segmentation': [[385.7,\n",
       "    85.85,\n",
       "    407.12,\n",
       "    80.58,\n",
       "    419.31,\n",
       "    79.26,\n",
       "    426.56,\n",
       "    77.94,\n",
       "    435.45,\n",
       "    74.65,\n",
       "    442.7,\n",
       "    73.66,\n",
       "    449.95,\n",
       "    73.99,\n",
       "    456.87,\n",
       "    77.94,\n",
       "    463.46,\n",
       "    83.87,\n",
       "    467.74,\n",
       "    92.77,\n",
       "    469.39,\n",
       "    104.63,\n",
       "    469.72,\n",
       "    117.15,\n",
       "    469.39,\n",
       "    135.27,\n",
       "    468.73,\n",
       "    141.86,\n",
       "    466.09,\n",
       "    144.17,\n",
       "    449.29,\n",
       "    141.53,\n",
       "    437.1,\n",
       "    136.92,\n",
       "    430.18,\n",
       "    129.67]],\n",
       "  'area': 3609.3030499999995,\n",
       "  'iscrowd': 0,\n",
       "  'image_id': 9,\n",
       "  'bbox': [385.7, 73.66, 84.02, 70.51],\n",
       "  'category_id': 55,\n",
       "  'id': 1913856},\n",
       " {'segmentation': [[458.81,\n",
       "    24.94,\n",
       "    437.61,\n",
       "    4.99,\n",
       "    391.48,\n",
       "    2.49,\n",
       "    364.05,\n",
       "    56.1,\n",
       "    377.77,\n",
       "    73.56,\n",
       "    377.77,\n",
       "    56.1,\n",
       "    392.73,\n",
       "    41.14,\n",
       "    403.95,\n",
       "    41.14,\n",
       "    420.16,\n",
       "    39.9,\n",
       "    435.12,\n",
       "    42.39,\n",
       "    442.6,\n",
       "    46.13,\n",
       "    455.06,\n",
       "    31.17]],\n",
       "  'area': 2975.276,\n",
       "  'iscrowd': 0,\n",
       "  'image_id': 9,\n",
       "  'bbox': [364.05, 2.49, 94.76, 71.07],\n",
       "  'category_id': 55,\n",
       "  'id': 1914001}]"
      ]
     },
     "execution_count": 16,
     "metadata": {},
     "output_type": "execute_result"
    }
   ],
   "source": [
    "coco.loadAnns(anns)"
   ]
  },
  {
   "cell_type": "code",
   "execution_count": 7,
   "metadata": {},
   "outputs": [
    {
     "name": "stdout",
     "output_type": "stream",
     "text": [
      "1575705947.6216846\n"
     ]
    }
   ],
   "source": [
    "import time\n",
    "print(time.time())"
   ]
  },
  {
   "cell_type": "code",
   "execution_count": 8,
   "metadata": {},
   "outputs": [
    {
     "name": "stdout",
     "output_type": "stream",
     "text": [
      "2019-12-07 16:07:30\n"
     ]
    }
   ],
   "source": [
    "print()"
   ]
  },
  {
   "cell_type": "code",
   "execution_count": null,
   "metadata": {},
   "outputs": [],
   "source": []
  },
  {
   "cell_type": "code",
   "execution_count": null,
   "metadata": {},
   "outputs": [],
   "source": []
  },
  {
   "cell_type": "code",
   "execution_count": null,
   "metadata": {},
   "outputs": [],
   "source": []
  },
  {
   "cell_type": "code",
   "execution_count": null,
   "metadata": {},
   "outputs": [],
   "source": []
  },
  {
   "cell_type": "code",
   "execution_count": null,
   "metadata": {},
   "outputs": [],
   "source": []
  },
  {
   "cell_type": "code",
   "execution_count": null,
   "metadata": {},
   "outputs": [],
   "source": []
  },
  {
   "cell_type": "code",
   "execution_count": null,
   "metadata": {},
   "outputs": [],
   "source": []
  }
 ],
 "metadata": {
  "kernelspec": {
   "display_name": "Python 3",
   "language": "python",
   "name": "python3"
  },
  "language_info": {
   "codemirror_mode": {
    "name": "ipython",
    "version": 3
   },
   "file_extension": ".py",
   "mimetype": "text/x-python",
   "name": "python",
   "nbconvert_exporter": "python",
   "pygments_lexer": "ipython3",
   "version": "3.7.5"
  }
 },
 "nbformat": 4,
 "nbformat_minor": 2
}
